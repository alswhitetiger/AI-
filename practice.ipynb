{
 "cells": [
  {
   "cell_type": "markdown",
   "id": "dfd15574",
   "metadata": {},
   "source": [
    "# 간단한 전이학습 시켜보기\n",
    "\n",
    "1. 주제를 정한다.\n",
    "2. 주제에 맞는 task 판단한다.\n",
    "3. 해당 task를 수행하는 모델을 huggingface에서 찾는다.\n",
    "4. 적절한 데이터셋을 정제해 준비한다.\n",
    "5. '3'에서 찾은 모델을 로드하여 간단하게 전이학습 진행한다.\n",
    "6. 추론 결과를 확인한다."
   ]
  },
  {
   "cell_type": "code",
   "execution_count": null,
   "id": "fce7afaf",
   "metadata": {},
   "outputs": [],
   "source": [
    "# !pip install transformers datasets accelerate torch bitsandbytes"
   ]
  },
  {
   "cell_type": "code",
   "execution_count": null,
   "id": "c47429a3",
   "metadata": {},
   "outputs": [],
   "source": [
    "# !pip install transformers torch"
   ]
  },
  {
   "cell_type": "code",
   "execution_count": 1,
   "id": "73167ab7",
   "metadata": {},
   "outputs": [
    {
     "data": {
      "application/vnd.jupyter.widget-view+json": {
       "model_id": "2b0321cce1b644859196d6b96e377c70",
       "version_major": 2,
       "version_minor": 0
      },
      "text/plain": [
       "Loading checkpoint shards:   0%|          | 0/3 [00:00<?, ?it/s]"
      ]
     },
     "metadata": {},
     "output_type": "display_data"
    },
    {
     "name": "stderr",
     "output_type": "stream",
     "text": [
      "Device set to use cpu\n"
     ]
    },
    {
     "name": "stdout",
     "output_type": "stream",
     "text": [
      "애들이랑 축구를 하기 위해서 학교 운동장에 도착을 했는데 이게 웬걸 조기축구를 하는 아저씨들이 점령중이였다. 당신은 대체 누구십니까? 이 질문을 하면 답해주지 않았지만 그들의 분위기가 너무 험악하게 변해있었고, 나도 쫄아서 뒤에서 조용히 관전만했던 기억이 있다.​2. 고등학교 친구들과 졸업여행으로 제주도에 갔다가 우도가는 배안에서 어떤 아재에게 \"야 이거 안되겠다 우리 뭐라도 먹으러 가자\"라는 말 한마디로 시작된 여행인데 그날 아침부터 태풍주의보가 내려져 3\n"
     ]
    }
   ],
   "source": [
    "from transformers import pipeline, AutoTokenizer, AutoModelForCausalLM\n",
    "import torch\n",
    "\n",
    "model_name = \"EleutherAI/polyglot-ko-1.3b\"\n",
    "\n",
    "tokenizer = AutoTokenizer.from_pretrained(model_name)\n",
    "model = AutoModelForCausalLM.from_pretrained(model_name)\n",
    "\n",
    "generator = pipeline('text-generation', model=model, tokenizer=tokenizer)\n",
    "\n",
    "prompt = \"애들이랑 축구를 하기 위해서 학교 운동장에 도착을 했는데 이게 웬걸 조기축구를 하는 아저씨들이 점령중이였다. 당신은\"\n",
    "\n",
    "result = generator(\n",
    "    prompt, \n",
    "    max_new_tokens=100,\n",
    "    repetition_penalty=1.2,\n",
    "    do_sample=True,\n",
    "    top_k=50,\n",
    "    top_p=0.95\n",
    ")\n",
    "\n",
    "print(result[0]['generated_text'])"
   ]
  }
 ],
 "metadata": {
  "kernelspec": {
   "display_name": "nlp_env",
   "language": "python",
   "name": "python3"
  },
  "language_info": {
   "codemirror_mode": {
    "name": "ipython",
    "version": 3
   },
   "file_extension": ".py",
   "mimetype": "text/x-python",
   "name": "python",
   "nbconvert_exporter": "python",
   "pygments_lexer": "ipython3",
   "version": "3.12.11"
  }
 },
 "nbformat": 4,
 "nbformat_minor": 5
}
